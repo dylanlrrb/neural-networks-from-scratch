{
 "cells": [
  {
   "cell_type": "code",
   "execution_count": 82,
   "metadata": {},
   "outputs": [],
   "source": [
    "import random\n",
    "import json\n",
    "import numpy as np"
   ]
  },
  {
   "cell_type": "code",
   "execution_count": 83,
   "metadata": {},
   "outputs": [],
   "source": [
    "class Network(object):\n",
    "\n",
    "    def __init__(self, sizes):\n",
    "      self.num_layers = len(sizes)\n",
    "      self.sizes = sizes\n",
    "      self.biases = [np.random.randn(y, 1) for y in sizes[1:]]\n",
    "      self.weights = [np.random.randn(y, x) for x, y in zip(sizes[:-1], sizes[1:])]\n",
    "\n",
    "    def feedforward(self, a):\n",
    "      for b, w in zip(self.biases, self.weights):\n",
    "        a = sigmoid(np.dot(w, a)+b)\n",
    "      return a\n",
    "\n",
    "    def stochastic_gradient_descent(self, training_data, epochs, mini_batch_size, learning_rate, test_data=None, export_params=False):\n",
    "      training_data = list(training_data)\n",
    "      n = len(training_data)\n",
    "\n",
    "      if test_data:\n",
    "        test_data = list(test_data)\n",
    "        n_test = len(test_data)\n",
    "\n",
    "      for j in range(epochs):\n",
    "        random.shuffle(training_data)\n",
    "        mini_batches = [\n",
    "          training_data[k:k+mini_batch_size]\n",
    "          for k in range(0, n, mini_batch_size)]\n",
    "        for mini_batch in mini_batches:\n",
    "          self.update_mini_batch(mini_batch, learning_rate)\n",
    "        if j % 3 == 0:\n",
    "          if test_data:\n",
    "            print(\"Epoch {} : {}% acuracy\".format(j,self.evaluate(test_data) * 100 / n_test))\n",
    "          else:\n",
    "            print(\"Epoch {} complete\".format(j))\n",
    "\n",
    "      if export_params:\n",
    "        with open('data.json', 'w') as outfile:\n",
    "          outfile.write('data = ')\n",
    "          json.dump({\n",
    "            \"weights\": self.weights,\n",
    "            \"biases\": self.biases\n",
    "          }, outfile, cls=NumpyEncoder)\n",
    "\n",
    "    def update_mini_batch(self, mini_batch, learning_rate):\n",
    "      nabla_b = [np.zeros(b.shape) for b in self.biases]\n",
    "      nabla_w = [np.zeros(w.shape) for w in self.weights]\n",
    "      for x, y in mini_batch:\n",
    "        delta_nabla_b, delta_nabla_w = self.backprop(x, y)\n",
    "        nabla_b = [nb+dnb for nb, dnb in zip(nabla_b, delta_nabla_b)]\n",
    "        nabla_w = [nw+dnw for nw, dnw in zip(nabla_w, delta_nabla_w)]\n",
    "      \n",
    "      self.weights = [w-(learning_rate/len(mini_batch))*nw for w, nw in zip(self.weights, nabla_w)]\n",
    "      self.biases = [b-(learning_rate/len(mini_batch))*nb for b, nb in zip(self.biases, nabla_b)]\n",
    "\n",
    "    def backprop(self, x, y):\n",
    "      nabla_b = [np.zeros(b.shape) for b in self.biases]\n",
    "      nabla_w = [np.zeros(w.shape) for w in self.weights]\n",
    "      activation = x\n",
    "      activations = [x]\n",
    "      zs = []\n",
    "      for b, w in zip(self.biases, self.weights):\n",
    "        z = np.dot(w, activation)+b\n",
    "        zs.append(z)\n",
    "        activation = sigmoid(z)\n",
    "        activations.append(activation)\n",
    "      delta = self.cost_derivative(activations[-1], y) * \\\n",
    "        sigmoid_prime(zs[-1])\n",
    "      nabla_b[-1] = delta\n",
    "      nabla_w[-1] = np.dot(delta, activations[-2].transpose())\n",
    "      for l in range(2, self.num_layers):\n",
    "        z = zs[-l]\n",
    "        sp = sigmoid_prime(z)\n",
    "        delta = np.dot(self.weights[-l+1].transpose(), delta) * sp\n",
    "        nabla_b[-l] = delta\n",
    "        nabla_w[-l] = np.dot(delta, activations[-l-1].transpose())\n",
    "      return (nabla_b, nabla_w)\n",
    "\n",
    "    def evaluate(self, test_data):\n",
    "      test_results = [(np.argmax(self.feedforward(x)), y) for (x, y) in test_data]\n",
    "      \n",
    "      return sum(int(x == y) for (x, y) in test_results)\n",
    "\n",
    "    def cost_derivative(self, output_activations, y):\n",
    "      return (output_activations-y)\n",
    "\n",
    "def sigmoid(z):\n",
    "  return 1.0/(1.0+np.exp(-z))\n",
    "\n",
    "def sigmoid_prime(z):\n",
    "  return sigmoid(z)*(1-sigmoid(z))\n",
    "\n",
    "class NumpyEncoder(json.JSONEncoder):\n",
    "  def default(self, obj):\n",
    "    if isinstance(obj, np.ndarray):\n",
    "      return obj.tolist()\n",
    "    return json.JSONEncoder.default(self, obj)"
   ]
  },
  {
   "cell_type": "code",
   "execution_count": 84,
   "metadata": {},
   "outputs": [],
   "source": [
    "import mnist_loader\n",
    "training_data, validation_data, test_data = mnist_loader.load_data_wrapper()"
   ]
  },
  {
   "cell_type": "code",
   "execution_count": 85,
   "metadata": {},
   "outputs": [
    {
     "name": "stdout",
     "output_type": "stream",
     "text": [
      "Epoch 0 : 90.4% acuracy\n",
      "Epoch 3 : 92.75% acuracy\n",
      "Epoch 6 : 93.74% acuracy\n",
      "Epoch 9 : 94.12% acuracy\n",
      "Epoch 12 : 94.22% acuracy\n",
      "Epoch 15 : 94.23% acuracy\n",
      "Epoch 18 : 94.46% acuracy\n",
      "Epoch 21 : 94.37% acuracy\n",
      "Epoch 24 : 94.68% acuracy\n",
      "Epoch 27 : 94.64% acuracy\n"
     ]
    }
   ],
   "source": [
    "net = Network([784, 25, 25, 10])\n",
    "net.stochastic_gradient_descent(training_data, 30, 10, 3.0, test_data=test_data, export_params=True)"
   ]
  }
 ],
 "metadata": {
  "interpreter": {
   "hash": "82b6f8576fac1b48d457f32e954bc0a7801e5201fd30dcfecd9f6cc309373d5e"
  },
  "kernelspec": {
   "display_name": "Python 3.7.10 64-bit ('scratch-nn': pyenv)",
   "language": "python",
   "name": "python3"
  },
  "language_info": {
   "codemirror_mode": {
    "name": "ipython",
    "version": 3
   },
   "file_extension": ".py",
   "mimetype": "text/x-python",
   "name": "python",
   "nbconvert_exporter": "python",
   "pygments_lexer": "ipython3",
   "version": "3.7.10"
  },
  "orig_nbformat": 4
 },
 "nbformat": 4,
 "nbformat_minor": 2
}
